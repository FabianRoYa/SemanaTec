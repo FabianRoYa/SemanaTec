{
  "nbformat": 4,
  "nbformat_minor": 0,
  "metadata": {
    "colab": {
      "name": "Untitled0.ipynb",
      "provenance": [],
      "collapsed_sections": [],
      "authorship_tag": "ABX9TyMiM6lXIVmQnP5URaIVhxkW",
      "include_colab_link": true
    },
    "kernelspec": {
      "name": "python3",
      "display_name": "Python 3"
    },
    "language_info": {
      "name": "python"
    }
  },
  "cells": [
    {
      "cell_type": "markdown",
      "metadata": {
        "id": "view-in-github",
        "colab_type": "text"
      },
      "source": [
        "<a href=\"https://colab.research.google.com/github/FabianRoYa/SemanaTec/blob/main/CambiosMain.ipynb\" target=\"_parent\"><img src=\"https://colab.research.google.com/assets/colab-badge.svg\" alt=\"Open In Colab\"/></a>"
      ]
    },
    {
      "cell_type": "code",
      "execution_count": null,
      "metadata": {
        "colab": {
          "base_uri": "https://localhost:8080/"
        },
        "id": "UNBKBE9rwk7-",
        "outputId": "ca7ccc74-f6a1-44cc-a428-974e0e5c694f"
      },
      "outputs": [
        {
          "output_type": "stream",
          "name": "stdout",
          "text": [
            "Semana Tec wuuuuu\n"
          ]
        }
      ],
      "source": [
        "print(\"Semana Tec wuuuuu\")"
      ]
    },
    {
      "cell_type": "code",
      "source": [
        "print(\"Cambios en el README - main\")"
      ],
      "metadata": {
        "colab": {
          "base_uri": "https://localhost:8080/"
        },
        "id": "eegvx4Jp5Xcl",
        "outputId": "4aa8c0e9-e5bc-442a-96d5-0ceeab88ca4d"
      },
      "execution_count": 3,
      "outputs": [
        {
          "output_type": "stream",
          "name": "stdout",
          "text": [
            "Cambios en el README - main\n"
          ]
        }
      ]
    }
  ]
}